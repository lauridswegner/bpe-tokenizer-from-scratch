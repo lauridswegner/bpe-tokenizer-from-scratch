{
 "cells": [
  {
   "cell_type": "code",
   "execution_count": 2,
   "id": "2629ce0c",
   "metadata": {},
   "outputs": [
    {
     "name": "stdout",
     "output_type": "stream",
     "text": [
      "---\n",
      "ANAKIN: Because of Obi-Wan?\n",
      "PADME: Because of what you've done . . . what you plan to do. Stop, stop now. Come back! I love you.\n",
      "ANAKIN: (seeing Obi-Wan) Liar!\n",
      "PADME turns around and. sees OBI-WAN standing in the doorway of the Naboo Cruiser.\n",
      "PADME: No!\n",
      "ANAKIN: You're with him. You've betrayed me! You brought him here to kill me!\n",
      "PADME: NO! Anakin. I swear ... I ...\n",
      "ANAKIN reaches out, and PADME grabs her throat as she starts to choke.\n",
      "OBI-WAN: Let her go, Anakin.\n",
      "ANAKIN: What have you and she been up to?\n",
      "OBI-WAN: Let her go!\n",
      "ANAKIN releases his grip on the unconscious PADME and she crumples to the ground.\n",
      "ANAKIN: You turned her against me.\n",
      "OBI-WAN: You have done that yourself.\n",
      "ANAKIN: You will not take her from me.\n",
      "ANAKIN throws off his cloak.\n",
      "OBI-WAN: Your anger and your lust for power have already done that.\n",
      "OBI-WAN flings off his cloak.\n",
      "OBI-WAN: (continuing) You have allowed this Dark Lord to twist your mind until now . . . until now you have become the very thing you swore to destroy.\n",
      "They circle each other until OBI-WAN is near PADME. He places his hand on her.\n",
      "ANAKIN: Don't lecture me, Obi-Wan. I see through the lies of the Jedi. I do not fear the dark side as you do. I have brought peace, justice, freedom, and security to my new Empire.\n",
      "OBI-WAN: Your new Empire?\n",
      "ANAKIN: Don't make me kill you.\n",
      "OBI-WAN: Anakin, my allegiance is to the Republic ... to democracy.\n",
      "ANAKIN: If you're not with me, you're my enemy.\n",
      "OBI-WAN: Only a Sith Lord deals in absolutes. I will do what I must.\n",
      "(ignites his lightsaber)\n",
      "ANAKIN: You will try.\n",
      "ANAKIN ignites his lightsaber.\n",
      "length: 1585\n",
      "---\n",
      "[65, 78, 65, 75, 73, 78, 58, 32, 66, 101, 99, 97, 117, 115, 101, 32, 111, 102, 32, 79, 98, 105, 45, 87, 97, 110, 63, 10, 80, 65, 68, 77, 69, 58, 32, 66, 101, 99, 97, 117, 115, 101, 32, 111, 102, 32, 119, 104, 97, 116, 32, 121, 111, 117, 39, 118, 101, 32, 100, 111, 110, 101, 32, 46, 32, 46, 32, 46, 32, 119, 104, 97, 116, 32, 121, 111, 117, 32, 112, 108, 97, 110, 32, 116, 111, 32, 100, 111, 46, 32, 83, 116, 111, 112, 44, 32, 115, 116, 111, 112, 32, 110, 111, 119, 46, 32, 67, 111, 109, 101, 32, 98, 97, 99, 107, 33, 32, 73, 32, 108, 111, 118, 101, 32, 121, 111, 117, 46, 10, 65, 78, 65, 75, 73, 78, 58, 32, 40, 115, 101, 101, 105, 110, 103, 32, 79, 98, 105, 45, 87, 97, 110, 41, 32, 76, 105, 97, 114, 33, 10, 80, 65, 68, 77, 69, 32, 116, 117, 114, 110, 115, 32, 97, 114, 111, 117, 110, 100, 32, 97, 110, 100, 46, 32, 115, 101, 101, 115, 32, 79, 66, 73, 45, 87, 65, 78, 32, 115, 116, 97, 110, 100, 105, 110, 103, 32, 105, 110, 32, 116, 104, 101, 32, 100, 111, 111, 114, 119, 97, 121, 32, 111, 102, 32, 116, 104, 101, 32, 78, 97, 98, 111, 111, 32, 67, 114, 117, 105, 115, 101, 114, 46, 10, 80, 65, 68, 77, 69, 58, 32, 78, 111, 33, 10, 65, 78, 65, 75, 73, 78, 58, 32, 89, 111, 117, 39, 114, 101, 32, 119, 105, 116, 104, 32, 104, 105, 109, 46, 32, 89, 111, 117, 39, 118, 101, 32, 98, 101, 116, 114, 97, 121, 101, 100, 32, 109, 101, 33, 32, 89, 111, 117, 32, 98, 114, 111, 117, 103, 104, 116, 32, 104, 105, 109, 32, 104, 101, 114, 101, 32, 116, 111, 32, 107, 105, 108, 108, 32, 109, 101, 33, 10, 80, 65, 68, 77, 69, 58, 32, 78, 79, 33, 32, 65, 110, 97, 107, 105, 110, 46, 32, 73, 32, 115, 119, 101, 97, 114, 32, 46, 46, 46, 32, 73, 32, 46, 46, 46, 10, 65, 78, 65, 75, 73, 78, 32, 114, 101, 97, 99, 104, 101, 115, 32, 111, 117, 116, 44, 32, 97, 110, 100, 32, 80, 65, 68, 77, 69, 32, 103, 114, 97, 98, 115, 32, 104, 101, 114, 32, 116, 104, 114, 111, 97, 116, 32, 97, 115, 32, 115, 104, 101, 32, 115, 116, 97, 114, 116, 115, 32, 116, 111, 32, 99, 104, 111, 107, 101, 46, 10, 79, 66, 73, 45, 87, 65, 78, 58, 32, 76, 101, 116, 32, 104, 101, 114, 32, 103, 111, 44, 32, 65, 110, 97, 107, 105, 110, 46, 10, 65, 78, 65, 75, 73, 78, 58, 32, 87, 104, 97, 116, 32, 104, 97, 118, 101, 32, 121, 111, 117, 32, 97, 110, 100, 32, 115, 104, 101, 32, 98, 101, 101, 110, 32, 117, 112, 32, 116, 111, 63, 10, 79, 66, 73, 45, 87, 65, 78, 58, 32, 76, 101, 116, 32, 104, 101, 114, 32, 103, 111, 33, 10, 65, 78, 65, 75, 73, 78, 32, 114, 101, 108, 101, 97, 115, 101, 115, 32, 104, 105, 115, 32, 103, 114, 105, 112, 32, 111, 110, 32, 116, 104, 101, 32, 117, 110, 99, 111, 110, 115, 99, 105, 111, 117, 115, 32, 80, 65, 68, 77, 69, 32, 97, 110, 100, 32, 115, 104, 101, 32, 99, 114, 117, 109, 112, 108, 101, 115, 32, 116, 111, 32, 116, 104, 101, 32, 103, 114, 111, 117, 110, 100, 46, 10, 65, 78, 65, 75, 73, 78, 58, 32, 89, 111, 117, 32, 116, 117, 114, 110, 101, 100, 32, 104, 101, 114, 32, 97, 103, 97, 105, 110, 115, 116, 32, 109, 101, 46, 10, 79, 66, 73, 45, 87, 65, 78, 58, 32, 89, 111, 117, 32, 104, 97, 118, 101, 32, 100, 111, 110, 101, 32, 116, 104, 97, 116, 32, 121, 111, 117, 114, 115, 101, 108, 102, 46, 10, 65, 78, 65, 75, 73, 78, 58, 32, 89, 111, 117, 32, 119, 105, 108, 108, 32, 110, 111, 116, 32, 116, 97, 107, 101, 32, 104, 101, 114, 32, 102, 114, 111, 109, 32, 109, 101, 46, 10, 65, 78, 65, 75, 73, 78, 32, 116, 104, 114, 111, 119, 115, 32, 111, 102, 102, 32, 104, 105, 115, 32, 99, 108, 111, 97, 107, 46, 10, 79, 66, 73, 45, 87, 65, 78, 58, 32, 89, 111, 117, 114, 32, 97, 110, 103, 101, 114, 32, 97, 110, 100, 32, 121, 111, 117, 114, 32, 108, 117, 115, 116, 32, 102, 111, 114, 32, 112, 111, 119, 101, 114, 32, 104, 97, 118, 101, 32, 97, 108, 114, 101, 97, 100, 121, 32, 100, 111, 110, 101, 32, 116, 104, 97, 116, 46, 10, 79, 66, 73, 45, 87, 65, 78, 32, 102, 108, 105, 110, 103, 115, 32, 111, 102, 102, 32, 104, 105, 115, 32, 99, 108, 111, 97, 107, 46, 10, 79, 66, 73, 45, 87, 65, 78, 58, 32, 40, 99, 111, 110, 116, 105, 110, 117, 105, 110, 103, 41, 32, 89, 111, 117, 32, 104, 97, 118, 101, 32, 97, 108, 108, 111, 119, 101, 100, 32, 116, 104, 105, 115, 32, 68, 97, 114, 107, 32, 76, 111, 114, 100, 32, 116, 111, 32, 116, 119, 105, 115, 116, 32, 121, 111, 117, 114, 32, 109, 105, 110, 100, 32, 117, 110, 116, 105, 108, 32, 110, 111, 119, 32, 46, 32, 46, 32, 46, 32, 117, 110, 116, 105, 108, 32, 110, 111, 119, 32, 121, 111, 117, 32, 104, 97, 118, 101, 32, 98, 101, 99, 111, 109, 101, 32, 116, 104, 101, 32, 118, 101, 114, 121, 32, 116, 104, 105, 110, 103, 32, 121, 111, 117, 32, 115, 119, 111, 114, 101, 32, 116, 111, 32, 100, 101, 115, 116, 114, 111, 121, 46, 10, 84, 104, 101, 121, 32, 99, 105, 114, 99, 108, 101, 32, 101, 97, 99, 104, 32, 111, 116, 104, 101, 114, 32, 117, 110, 116, 105, 108, 32, 79, 66, 73, 45, 87, 65, 78, 32, 105, 115, 32, 110, 101, 97, 114, 32, 80, 65, 68, 77, 69, 46, 32, 72, 101, 32, 112, 108, 97, 99, 101, 115, 32, 104, 105, 115, 32, 104, 97, 110, 100, 32, 111, 110, 32, 104, 101, 114, 46, 10, 65, 78, 65, 75, 73, 78, 58, 32, 68, 111, 110, 39, 116, 32, 108, 101, 99, 116, 117, 114, 101, 32, 109, 101, 44, 32, 79, 98, 105, 45, 87, 97, 110, 46, 32, 73, 32, 115, 101, 101, 32, 116, 104, 114, 111, 117, 103, 104, 32, 116, 104, 101, 32, 108, 105, 101, 115, 32, 111, 102, 32, 116, 104, 101, 32, 74, 101, 100, 105, 46, 32, 73, 32, 100, 111, 32, 110, 111, 116, 32, 102, 101, 97, 114, 32, 116, 104, 101, 32, 100, 97, 114, 107, 32, 115, 105, 100, 101, 32, 97, 115, 32, 121, 111, 117, 32, 100, 111, 46, 32, 73, 32, 104, 97, 118, 101, 32, 98, 114, 111, 117, 103, 104, 116, 32, 112, 101, 97, 99, 101, 44, 32, 106, 117, 115, 116, 105, 99, 101, 44, 32, 102, 114, 101, 101, 100, 111, 109, 44, 32, 97, 110, 100, 32, 115, 101, 99, 117, 114, 105, 116, 121, 32, 116, 111, 32, 109, 121, 32, 110, 101, 119, 32, 69, 109, 112, 105, 114, 101, 46, 10, 79, 66, 73, 45, 87, 65, 78, 58, 32, 89, 111, 117, 114, 32, 110, 101, 119, 32, 69, 109, 112, 105, 114, 101, 63, 10, 65, 78, 65, 75, 73, 78, 58, 32, 68, 111, 110, 39, 116, 32, 109, 97, 107, 101, 32, 109, 101, 32, 107, 105, 108, 108, 32, 121, 111, 117, 46, 10, 79, 66, 73, 45, 87, 65, 78, 58, 32, 65, 110, 97, 107, 105, 110, 44, 32, 109, 121, 32, 97, 108, 108, 101, 103, 105, 97, 110, 99, 101, 32, 105, 115, 32, 116, 111, 32, 116, 104, 101, 32, 82, 101, 112, 117, 98, 108, 105, 99, 32, 46, 46, 46, 32, 116, 111, 32, 100, 101, 109, 111, 99, 114, 97, 99, 121, 46, 10, 65, 78, 65, 75, 73, 78, 58, 32, 73, 102, 32, 121, 111, 117, 39, 114, 101, 32, 110, 111, 116, 32, 119, 105, 116, 104, 32, 109, 101, 44, 32, 121, 111, 117, 39, 114, 101, 32, 109, 121, 32, 101, 110, 101, 109, 121, 46, 10, 79, 66, 73, 45, 87, 65, 78, 58, 32, 79, 110, 108, 121, 32, 97, 32, 83, 105, 116, 104, 32, 76, 111, 114, 100, 32, 100, 101, 97, 108, 115, 32, 105, 110, 32, 97, 98, 115, 111, 108, 117, 116, 101, 115, 46, 32, 73, 32, 119, 105, 108, 108, 32, 100, 111, 32, 119, 104, 97, 116, 32, 73, 32, 109, 117, 115, 116, 46, 10, 40, 105, 103, 110, 105, 116, 101, 115, 32, 104, 105, 115, 32, 108, 105, 103, 104, 116, 115, 97, 98, 101, 114, 41, 10, 65, 78, 65, 75, 73, 78, 58, 32, 89, 111, 117, 32, 119, 105, 108, 108, 32, 116, 114, 121, 46, 10, 65, 78, 65, 75, 73, 78, 32, 105, 103, 110, 105, 116, 101, 115, 32, 104, 105, 115, 32, 108, 105, 103, 104, 116, 115, 97, 98, 101, 114, 46]\n",
      "length: 1585\n"
     ]
    }
   ],
   "source": [
    "text = \"\"\"ANAKIN: Because of Obi-Wan?\n",
    "PADME: Because of what you've done . . . what you plan to do. Stop, stop now. Come back! I love you.\n",
    "ANAKIN: (seeing Obi-Wan) Liar!\n",
    "PADME turns around and. sees OBI-WAN standing in the doorway of the Naboo Cruiser.\n",
    "PADME: No!\n",
    "ANAKIN: You're with him. You've betrayed me! You brought him here to kill me!\n",
    "PADME: NO! Anakin. I swear ... I ...\n",
    "ANAKIN reaches out, and PADME grabs her throat as she starts to choke.\n",
    "OBI-WAN: Let her go, Anakin.\n",
    "ANAKIN: What have you and she been up to?\n",
    "OBI-WAN: Let her go!\n",
    "ANAKIN releases his grip on the unconscious PADME and she crumples to the ground.\n",
    "ANAKIN: You turned her against me.\n",
    "OBI-WAN: You have done that yourself.\n",
    "ANAKIN: You will not take her from me.\n",
    "ANAKIN throws off his cloak.\n",
    "OBI-WAN: Your anger and your lust for power have already done that.\n",
    "OBI-WAN flings off his cloak.\n",
    "OBI-WAN: (continuing) You have allowed this Dark Lord to twist your mind until now . . . until now you have become the very thing you swore to destroy.\n",
    "They circle each other until OBI-WAN is near PADME. He places his hand on her.\n",
    "ANAKIN: Don't lecture me, Obi-Wan. I see through the lies of the Jedi. I do not fear the dark side as you do. I have brought peace, justice, freedom, and security to my new Empire.\n",
    "OBI-WAN: Your new Empire?\n",
    "ANAKIN: Don't make me kill you.\n",
    "OBI-WAN: Anakin, my allegiance is to the Republic ... to democracy.\n",
    "ANAKIN: If you're not with me, you're my enemy.\n",
    "OBI-WAN: Only a Sith Lord deals in absolutes. I will do what I must.\n",
    "(ignites his lightsaber)\n",
    "ANAKIN: You will try.\n",
    "ANAKIN ignites his lightsaber.\"\"\"\n",
    "tokens = text.encode(\"utf-8\") # raw bytes\n",
    "tokens = list(map(int, tokens)) # converts to a list of integers in range 0..255 for convenience\n",
    "\n",
    "print(\"---\")\n",
    "print(text)\n",
    "print(\"length:\", len(text))\n",
    "print(\"---\")\n",
    "print(tokens)\n",
    "print(\"length:\", len(tokens))"
   ]
  },
  {
   "cell_type": "code",
   "execution_count": 4,
   "id": "480143e6",
   "metadata": {},
   "outputs": [
    {
     "name": "stdout",
     "output_type": "stream",
     "text": [
      "[(42, (101, 32)), (31, (32, 116)), (30, (111, 117)), (26, (115, 32)), (25, (65, 78)), (22, (104, 101)), (22, (32, 104)), (21, (58, 32)), (20, (116, 104)), (20, (46, 10)), (18, (116, 32)), (18, (78, 58)), (18, (46, 32)), (16, (114, 32)), (16, (32, 97)), (14, (101, 114)), (14, (97, 110)), (14, (78, 65)), (14, (75, 73)), (14, (73, 78)), (14, (65, 75)), (14, (45, 87)), (13, (121, 111)), (13, (105, 110)), (13, (104, 97)), (13, (100, 32)), (13, (32, 121)), (13, (32, 109)), (13, (10, 65)), (12, (116, 111)), (12, (114, 101)), (12, (111, 32)), (12, (32, 115)), (12, (32, 100)), (11, (117, 32)), (11, (110, 100)), (11, (105, 115)), (11, (87, 65)), (11, (79, 66)), (11, (73, 45)), (11, (66, 73)), (10, (118, 101)), (10, (104, 105)), (10, (101, 115)), (10, (89, 111)), (10, (32, 111)), (10, (32, 89)), (9, (121, 32)), (9, (117, 114)), (9, (115, 116)), (9, (115, 101)), (9, (114, 111)), (9, (111, 110)), (9, (109, 101)), (9, (101, 97)), (9, (100, 111)), (9, (44, 32)), (9, (32, 110)), (9, (32, 73)), (9, (32, 46)), (9, (10, 79)), (8, (110, 101)), (8, (108, 32)), (8, (105, 108)), (8, (97, 114)), (8, (73, 32)), (8, (32, 119)), (7, (108, 108)), (7, (102, 32)), (7, (97, 116)), (7, (97, 107)), (7, (80, 65)), (7, (78, 32)), (7, (77, 69)), (7, (68, 77)), (7, (65, 68)), (6, (119, 105)), (6, (117, 115)), (6, (117, 110)), (6, (111, 119)), (6, (111, 102)), (6, (110, 111)), (6, (110, 103)), (6, (110, 32)), (6, (105, 116)), (6, (97, 118)), (6, (97, 99)), (6, (46, 46)), (6, (32, 108)), (6, (32, 98)), (6, (32, 79)), (5, (117, 39)), (5, (116, 105)), (5, (111, 114)), (5, (108, 105)), (5, (108, 101)), (5, (107, 105)), (5, (104, 32)), (5, (103, 104)), (5, (101, 101)), (5, (101, 100)), (5, (101, 99)), (5, (98, 101)), (5, (97, 98)), (5, (32, 117)), (5, (32, 105)), (5, (32, 103)), (5, (32, 102)), (5, (32, 99)), (5, (32, 76)), (4, (121, 46)), (4, (119, 32)), (4, (111, 116)), (4, (111, 109)), (4, (110, 116)), (4, (109, 121)), (4, (108, 111)), (4, (105, 103)), (4, (104, 116)), (4, (101, 46)), (4, (101, 44)), (4, (100, 101)), (4, (99, 101)), (4, (97, 108)), (4, (33, 10)), (4, (32, 112)), (4, (10, 80)), (3, (119, 104)), (3, (119, 101)), (3, (117, 103)), (3, (116, 117)), (3, (116, 115)), (3, (116, 114)), (3, (116, 101)), (3, (116, 97)), (3, (115, 104)), (3, (114, 97)), (3, (114, 46)), (3, (112, 108)), (3, (112, 32)), (3, (111, 97)), (3, (110, 115)), (3, (110, 97)), (3, (110, 46)), (3, (109, 112)), (3, (107, 101)), (3, (105, 114)), (3, (105, 45)), (3, (104, 114)), (3, (103, 114)), (3, (103, 32)), (3, (101, 116)), (3, (99, 111)), (3, (99, 108)), (3, (99, 104)), (3, (98, 105)), (3, (97, 115)), (3, (87, 97)), (3, (79, 98)), (3, (69, 58)), (3, (69, 32)), (3, (65, 110)), (3, (63, 10)), (3, (39, 114)), (3, (33, 32)), (3, (32, 80)), (3, (32, 78)), (3, (32, 68)), (3, (32, 65)), (2, (117, 116)), (2, (117, 105)), (2, (117, 46)), (2, (116, 46)), (2, (115, 119)), (2, (115, 97)), (2, (114, 121)), (2, (114, 117)), (2, (114, 110)), (2, (114, 107)), (2, (114, 105)), (2, (114, 100)), (2, (112, 105)), (2, (111, 112)), (2, (111, 111)), (2, (111, 46)), (2, (111, 33)), (2, (110, 105)), (2, (110, 99)), (2, (110, 39)), (2, (109, 32)), (2, (108, 117)), (2, (108, 97)), (2, (107, 46)), (2, (107, 32)), (2, (105, 109)), (2, (105, 99)), (2, (105, 97)), (2, (103, 111)), (2, (103, 110)), (2, (102, 114)), (2, (102, 102)), (2, (101, 119)), (2, (101, 110)), (2, (101, 109)), (2, (101, 108)), (2, (101, 33)), (2, (100, 105)), (2, (100, 46)), (2, (99, 114)), (2, (99, 105)), (2, (99, 97)), (2, (98, 115)), (2, (98, 114)), (2, (97, 121)), (2, (97, 117)), (2, (76, 111)), (2, (76, 101)), (2, (69, 109)), (2, (68, 111)), (2, (66, 101)), (2, (41, 32)), (2, (39, 118)), (2, (39, 116)), (2, (32, 114)), (2, (32, 107)), (2, (32, 101)), (2, (32, 83)), (2, (32, 69)), (2, (32, 67)), (2, (32, 66)), (2, (32, 40)), (1, (121, 101)), (1, (119, 115)), (1, (119, 111)), (1, (119, 97)), (1, (119, 46)), (1, (117, 112)), (1, (117, 109)), (1, (117, 98)), (1, (116, 121)), (1, (116, 119)), (1, (116, 44)), (1, (115, 111)), (1, (115, 105)), (1, (115, 99)), (1, (115, 46)), (1, (114, 119)), (1, (114, 116)), (1, (114, 115)), (1, (114, 99)), (1, (114, 41)), (1, (114, 33)), (1, (112, 117)), (1, (112, 111)), (1, (112, 101)), (1, (112, 44)), (1, (111, 121)), (1, (111, 118)), (1, (111, 108)), (1, (111, 107)), (1, (111, 99)), (1, (111, 63)), (1, (111, 44)), (1, (110, 117)), (1, (110, 108)), (1, (110, 63)), (1, (110, 44)), (1, (110, 41)), (1, (109, 117)), (1, (109, 111)), (1, (109, 105)), (1, (109, 97)), (1, (109, 46)), (1, (109, 44)), (1, (108, 121)), (1, (108, 115)), (1, (108, 114)), (1, (108, 102)), (1, (107, 33)), (1, (106, 117)), (1, (105, 112)), (1, (105, 111)), (1, (105, 101)), (1, (105, 100)), (1, (105, 46)), (1, (104, 111)), (1, (103, 115)), (1, (103, 105)), (1, (103, 101)), (1, (103, 97)), (1, (103, 41)), (1, (102, 111)), (1, (102, 108)), (1, (102, 101)), (1, (102, 46)), (1, (101, 121)), (1, (101, 112)), (1, (101, 105)), (1, (101, 103)), (1, (101, 63)), (1, (100, 121)), (1, (100, 97)), (1, (99, 121)), (1, (99, 117)), (1, (99, 116)), (1, (99, 107)), (1, (99, 32)), (1, (98, 111)), (1, (98, 108)), (1, (98, 97)), (1, (97, 105)), (1, (97, 103)), (1, (97, 100)), (1, (97, 32)), (1, (87, 104)), (1, (84, 104)), (1, (83, 116)), (1, (83, 105)), (1, (82, 101)), (1, (79, 110)), (1, (79, 33)), (1, (78, 111)), (1, (78, 97)), (1, (78, 79)), (1, (76, 105)), (1, (74, 101)), (1, (73, 102)), (1, (72, 101)), (1, (69, 46)), (1, (68, 97)), (1, (67, 114)), (1, (67, 111)), (1, (41, 10)), (1, (40, 115)), (1, (40, 105)), (1, (40, 99)), (1, (32, 118)), (1, (32, 106)), (1, (32, 87)), (1, (32, 82)), (1, (32, 74)), (1, (32, 72)), (1, (10, 84)), (1, (10, 40))]\n"
     ]
    }
   ],
   "source": [
    "def get_pairs(ids):\n",
    "    counts = {}\n",
    "    for pair in zip(ids, ids[1:]):\n",
    "        counts[pair] = counts.get(pair, 0) + 1\n",
    "    return counts\n",
    "\n",
    "pairs = get_pairs(tokens)\n",
    "#print(pairs)\n",
    "print(sorted(((v, k) for k,v in pairs.items()), reverse=True))"
   ]
  },
  {
   "cell_type": "code",
   "execution_count": 8,
   "id": "a9a6cc27",
   "metadata": {},
   "outputs": [
    {
     "data": {
      "text/plain": [
       "('e', ' ')"
      ]
     },
     "execution_count": 8,
     "metadata": {},
     "output_type": "execute_result"
    }
   ],
   "source": [
    "top_pair = max(pairs, key=pairs.get)\n",
    "top_pair\n",
    "chr(101), chr(32)"
   ]
  },
  {
   "cell_type": "code",
   "execution_count": 12,
   "id": "620b881b",
   "metadata": {},
   "outputs": [
    {
     "name": "stdout",
     "output_type": "stream",
     "text": [
      "[65, 78, 65, 75, 73, 78, 58, 32, 66, 101, 99, 97, 117, 115, 256, 111, 102, 32, 79, 98, 105, 45, 87, 97, 110, 63, 10, 80, 65, 68, 77, 69, 58, 32, 66, 101, 99, 97, 117, 115, 256, 111, 102, 32, 119, 104, 97, 116, 32, 121, 111, 117, 39, 118, 256, 100, 111, 110, 256, 46, 32, 46, 32, 46, 32, 119, 104, 97, 116, 32, 121, 111, 117, 32, 112, 108, 97, 110, 32, 116, 111, 32, 100, 111, 46, 32, 83, 116, 111, 112, 44, 32, 115, 116, 111, 112, 32, 110, 111, 119, 46, 32, 67, 111, 109, 256, 98, 97, 99, 107, 33, 32, 73, 32, 108, 111, 118, 256, 121, 111, 117, 46, 10, 65, 78, 65, 75, 73, 78, 58, 32, 40, 115, 101, 101, 105, 110, 103, 32, 79, 98, 105, 45, 87, 97, 110, 41, 32, 76, 105, 97, 114, 33, 10, 80, 65, 68, 77, 69, 32, 116, 117, 114, 110, 115, 32, 97, 114, 111, 117, 110, 100, 32, 97, 110, 100, 46, 32, 115, 101, 101, 115, 32, 79, 66, 73, 45, 87, 65, 78, 32, 115, 116, 97, 110, 100, 105, 110, 103, 32, 105, 110, 32, 116, 104, 256, 100, 111, 111, 114, 119, 97, 121, 32, 111, 102, 32, 116, 104, 256, 78, 97, 98, 111, 111, 32, 67, 114, 117, 105, 115, 101, 114, 46, 10, 80, 65, 68, 77, 69, 58, 32, 78, 111, 33, 10, 65, 78, 65, 75, 73, 78, 58, 32, 89, 111, 117, 39, 114, 256, 119, 105, 116, 104, 32, 104, 105, 109, 46, 32, 89, 111, 117, 39, 118, 256, 98, 101, 116, 114, 97, 121, 101, 100, 32, 109, 101, 33, 32, 89, 111, 117, 32, 98, 114, 111, 117, 103, 104, 116, 32, 104, 105, 109, 32, 104, 101, 114, 256, 116, 111, 32, 107, 105, 108, 108, 32, 109, 101, 33, 10, 80, 65, 68, 77, 69, 58, 32, 78, 79, 33, 32, 65, 110, 97, 107, 105, 110, 46, 32, 73, 32, 115, 119, 101, 97, 114, 32, 46, 46, 46, 32, 73, 32, 46, 46, 46, 10, 65, 78, 65, 75, 73, 78, 32, 114, 101, 97, 99, 104, 101, 115, 32, 111, 117, 116, 44, 32, 97, 110, 100, 32, 80, 65, 68, 77, 69, 32, 103, 114, 97, 98, 115, 32, 104, 101, 114, 32, 116, 104, 114, 111, 97, 116, 32, 97, 115, 32, 115, 104, 256, 115, 116, 97, 114, 116, 115, 32, 116, 111, 32, 99, 104, 111, 107, 101, 46, 10, 79, 66, 73, 45, 87, 65, 78, 58, 32, 76, 101, 116, 32, 104, 101, 114, 32, 103, 111, 44, 32, 65, 110, 97, 107, 105, 110, 46, 10, 65, 78, 65, 75, 73, 78, 58, 32, 87, 104, 97, 116, 32, 104, 97, 118, 256, 121, 111, 117, 32, 97, 110, 100, 32, 115, 104, 256, 98, 101, 101, 110, 32, 117, 112, 32, 116, 111, 63, 10, 79, 66, 73, 45, 87, 65, 78, 58, 32, 76, 101, 116, 32, 104, 101, 114, 32, 103, 111, 33, 10, 65, 78, 65, 75, 73, 78, 32, 114, 101, 108, 101, 97, 115, 101, 115, 32, 104, 105, 115, 32, 103, 114, 105, 112, 32, 111, 110, 32, 116, 104, 256, 117, 110, 99, 111, 110, 115, 99, 105, 111, 117, 115, 32, 80, 65, 68, 77, 69, 32, 97, 110, 100, 32, 115, 104, 256, 99, 114, 117, 109, 112, 108, 101, 115, 32, 116, 111, 32, 116, 104, 256, 103, 114, 111, 117, 110, 100, 46, 10, 65, 78, 65, 75, 73, 78, 58, 32, 89, 111, 117, 32, 116, 117, 114, 110, 101, 100, 32, 104, 101, 114, 32, 97, 103, 97, 105, 110, 115, 116, 32, 109, 101, 46, 10, 79, 66, 73, 45, 87, 65, 78, 58, 32, 89, 111, 117, 32, 104, 97, 118, 256, 100, 111, 110, 256, 116, 104, 97, 116, 32, 121, 111, 117, 114, 115, 101, 108, 102, 46, 10, 65, 78, 65, 75, 73, 78, 58, 32, 89, 111, 117, 32, 119, 105, 108, 108, 32, 110, 111, 116, 32, 116, 97, 107, 256, 104, 101, 114, 32, 102, 114, 111, 109, 32, 109, 101, 46, 10, 65, 78, 65, 75, 73, 78, 32, 116, 104, 114, 111, 119, 115, 32, 111, 102, 102, 32, 104, 105, 115, 32, 99, 108, 111, 97, 107, 46, 10, 79, 66, 73, 45, 87, 65, 78, 58, 32, 89, 111, 117, 114, 32, 97, 110, 103, 101, 114, 32, 97, 110, 100, 32, 121, 111, 117, 114, 32, 108, 117, 115, 116, 32, 102, 111, 114, 32, 112, 111, 119, 101, 114, 32, 104, 97, 118, 256, 97, 108, 114, 101, 97, 100, 121, 32, 100, 111, 110, 256, 116, 104, 97, 116, 46, 10, 79, 66, 73, 45, 87, 65, 78, 32, 102, 108, 105, 110, 103, 115, 32, 111, 102, 102, 32, 104, 105, 115, 32, 99, 108, 111, 97, 107, 46, 10, 79, 66, 73, 45, 87, 65, 78, 58, 32, 40, 99, 111, 110, 116, 105, 110, 117, 105, 110, 103, 41, 32, 89, 111, 117, 32, 104, 97, 118, 256, 97, 108, 108, 111, 119, 101, 100, 32, 116, 104, 105, 115, 32, 68, 97, 114, 107, 32, 76, 111, 114, 100, 32, 116, 111, 32, 116, 119, 105, 115, 116, 32, 121, 111, 117, 114, 32, 109, 105, 110, 100, 32, 117, 110, 116, 105, 108, 32, 110, 111, 119, 32, 46, 32, 46, 32, 46, 32, 117, 110, 116, 105, 108, 32, 110, 111, 119, 32, 121, 111, 117, 32, 104, 97, 118, 256, 98, 101, 99, 111, 109, 256, 116, 104, 256, 118, 101, 114, 121, 32, 116, 104, 105, 110, 103, 32, 121, 111, 117, 32, 115, 119, 111, 114, 256, 116, 111, 32, 100, 101, 115, 116, 114, 111, 121, 46, 10, 84, 104, 101, 121, 32, 99, 105, 114, 99, 108, 256, 101, 97, 99, 104, 32, 111, 116, 104, 101, 114, 32, 117, 110, 116, 105, 108, 32, 79, 66, 73, 45, 87, 65, 78, 32, 105, 115, 32, 110, 101, 97, 114, 32, 80, 65, 68, 77, 69, 46, 32, 72, 256, 112, 108, 97, 99, 101, 115, 32, 104, 105, 115, 32, 104, 97, 110, 100, 32, 111, 110, 32, 104, 101, 114, 46, 10, 65, 78, 65, 75, 73, 78, 58, 32, 68, 111, 110, 39, 116, 32, 108, 101, 99, 116, 117, 114, 256, 109, 101, 44, 32, 79, 98, 105, 45, 87, 97, 110, 46, 32, 73, 32, 115, 101, 256, 116, 104, 114, 111, 117, 103, 104, 32, 116, 104, 256, 108, 105, 101, 115, 32, 111, 102, 32, 116, 104, 256, 74, 101, 100, 105, 46, 32, 73, 32, 100, 111, 32, 110, 111, 116, 32, 102, 101, 97, 114, 32, 116, 104, 256, 100, 97, 114, 107, 32, 115, 105, 100, 256, 97, 115, 32, 121, 111, 117, 32, 100, 111, 46, 32, 73, 32, 104, 97, 118, 256, 98, 114, 111, 117, 103, 104, 116, 32, 112, 101, 97, 99, 101, 44, 32, 106, 117, 115, 116, 105, 99, 101, 44, 32, 102, 114, 101, 101, 100, 111, 109, 44, 32, 97, 110, 100, 32, 115, 101, 99, 117, 114, 105, 116, 121, 32, 116, 111, 32, 109, 121, 32, 110, 101, 119, 32, 69, 109, 112, 105, 114, 101, 46, 10, 79, 66, 73, 45, 87, 65, 78, 58, 32, 89, 111, 117, 114, 32, 110, 101, 119, 32, 69, 109, 112, 105, 114, 101, 63, 10, 65, 78, 65, 75, 73, 78, 58, 32, 68, 111, 110, 39, 116, 32, 109, 97, 107, 256, 109, 256, 107, 105, 108, 108, 32, 121, 111, 117, 46, 10, 79, 66, 73, 45, 87, 65, 78, 58, 32, 65, 110, 97, 107, 105, 110, 44, 32, 109, 121, 32, 97, 108, 108, 101, 103, 105, 97, 110, 99, 256, 105, 115, 32, 116, 111, 32, 116, 104, 256, 82, 101, 112, 117, 98, 108, 105, 99, 32, 46, 46, 46, 32, 116, 111, 32, 100, 101, 109, 111, 99, 114, 97, 99, 121, 46, 10, 65, 78, 65, 75, 73, 78, 58, 32, 73, 102, 32, 121, 111, 117, 39, 114, 256, 110, 111, 116, 32, 119, 105, 116, 104, 32, 109, 101, 44, 32, 121, 111, 117, 39, 114, 256, 109, 121, 32, 101, 110, 101, 109, 121, 46, 10, 79, 66, 73, 45, 87, 65, 78, 58, 32, 79, 110, 108, 121, 32, 97, 32, 83, 105, 116, 104, 32, 76, 111, 114, 100, 32, 100, 101, 97, 108, 115, 32, 105, 110, 32, 97, 98, 115, 111, 108, 117, 116, 101, 115, 46, 32, 73, 32, 119, 105, 108, 108, 32, 100, 111, 32, 119, 104, 97, 116, 32, 73, 32, 109, 117, 115, 116, 46, 10, 40, 105, 103, 110, 105, 116, 101, 115, 32, 104, 105, 115, 32, 108, 105, 103, 104, 116, 115, 97, 98, 101, 114, 41, 10, 65, 78, 65, 75, 73, 78, 58, 32, 89, 111, 117, 32, 119, 105, 108, 108, 32, 116, 114, 121, 46, 10, 65, 78, 65, 75, 73, 78, 32, 105, 103, 110, 105, 116, 101, 115, 32, 104, 105, 115, 32, 108, 105, 103, 104, 116, 115, 97, 98, 101, 114, 46]\n",
      "length: 1543\n"
     ]
    }
   ],
   "source": [
    "def merge(ids, pair, idx):\n",
    "    # in the list of ints (ids), replace all consecutive occurences of pair the the new token idx\n",
    "    newids = []\n",
    "    i = 0\n",
    "    while i < len(ids):\n",
    "        # if we are not at the very last position && the pair matches -> replace it\n",
    "        if i < len(ids) - 1 and ids[i] == pair[0] and ids[i+1] == pair[1]:\n",
    "            newids.append(idx)\n",
    "            i += 2\n",
    "        else:\n",
    "            newids.append(ids[i])\n",
    "            i += 1\n",
    "    return newids\n",
    "\n",
    "#print(merge([5, 6, 6, 7, 9, 1], (6, 7), 99))\n",
    "\n",
    "tokens2 = merge(tokens, top_pair, 256)\n",
    "print(tokens2)\n",
    "print(\"length:\", len(tokens2))"
   ]
  },
  {
   "cell_type": "code",
   "execution_count": 14,
   "id": "f84cf0e4",
   "metadata": {},
   "outputs": [],
   "source": [
    "# making the training text longer, having more representative token statistics\n",
    "# text from https://imsdb.com/scripts/Star-Wars-Revenge-of-the-Sith.html\n",
    "text = \"\"\"ANAKIN: Because of Obi-Wan?\n",
    "PADME: Because of what you've done . . . what you plan to do. Stop, stop now. Come back! I love you.\n",
    "ANAKIN: (seeing Obi-Wan) Liar!\n",
    "PADME turns around and. sees OBI-WAN standing in the doorway of the Naboo Cruiser.\n",
    "PADME: No!\n",
    "ANAKIN: You're with him. You've betrayed me! You brought him here to kill me!\n",
    "PADME: NO! Anakin. I swear ... I ...\n",
    "ANAKIN reaches out, and PADME grabs her throat as she starts to choke.\n",
    "OBI-WAN: Let her go, Anakin.\n",
    "ANAKIN: What have you and she been up to?\n",
    "OBI-WAN: Let her go!\n",
    "ANAKIN releases his grip on the unconscious PADME and she crumples to the ground.\n",
    "ANAKIN: You turned her against me.\n",
    "OBI-WAN: You have done that yourself.\n",
    "ANAKIN: You will not take her from me.\n",
    "ANAKIN throws off his cloak.\n",
    "OBI-WAN: Your anger and your lust for power have already done that.\n",
    "OBI-WAN flings off his cloak.\n",
    "OBI-WAN: (continuing) You have allowed this Dark Lord to twist your mind until now . . . until now you have become the very thing you swore to destroy.\n",
    "They circle each other until OBI-WAN is near PADME. He places his hand on her.\n",
    "ANAKIN: Don't lecture me, Obi-Wan. I see through the lies of the Jedi. I do not fear the dark side as you do. I have brought peace, justice, freedom, and security to my new Empire.\n",
    "OBI-WAN: Your new Empire?\n",
    "ANAKIN: Don't make me kill you.\n",
    "OBI-WAN: Anakin, my allegiance is to the Republic ... to democracy.\n",
    "ANAKIN: If you're not with me, you're my enemy.\n",
    "OBI-WAN: Only a Sith Lord deals in absolutes. I will do what I must.\n",
    "(ignites his lightsaber)\n",
    "ANAKIN: You will try.\n",
    "ANAKIN ignites his lightsaber.\n",
    "ANAKIN lashes out at OBI-WAN, and they begin a ferocious sword fight. ANAKIN throws CONTAINERS at OBI-WAN using the Force.\n",
    "They work their way off the lnding platform and into the main entry hallway. ANAKIN kicks OBI-WAN, and OBI-WAN drops to a lower level.\n",
    "ARTOO BEEPS his concern and rushes to the unconscious PADME's aid.\n",
    "196 INT. CORRIDOR-SENATE ARENA-CHANCELLOR'S HOLDING OFFICE-NIGHT\n",
    "YODA enters, using the Force to throw two RED GUARDS against the wall, knocking them unconscious. DARTH SIDIOUS turns his chair toward YODA. MAS AMEDDA stands behind SIDIOUS's desk.\n",
    "YODA: I hear a new apprentice, you have. Emperor, or should I call you Darth Sidious.\n",
    "DARTH SlDIOUS: Master Yoda, you survived.\n",
    "YODA: Surprised?\n",
    "DARTH SlDIOUS: Your arrogance blinds you, Master Yoda. Now you will experience the full power of the dark side.\n",
    "The Dark Lord raises his arms, and LIGHTNING BOLTS shoot out, surrounding YODA.\n",
    "YODA is picked up and thrown across the room, hitting the wall and sliding down in a crumpled heap. DARTH SIDIUS chuckles.\n",
    "197 INT. MUSTAFAR-PASSAGES TO MAIN CONTROL CENTER-DA\n",
    "ANAKIN and OBI-WAN move their fight toward the main control center. As the laser swords fly, bits of the hallway are cut up. OBI-WAN and ANAKIN jump and use every trick in the Jedi book.\n",
    "198 EXT. MUSTAFAR-LANDING PLATFORM-NABOO CRUISER-DAY\n",
    "R2-D2, tries to drag PADME on board the Naboo Cruiser. C-3PO pokes his head out of the ship's doorway.\n",
    "C-3PO: What are you doing? You're going to hurt her. Wait!!\n",
    "C-3PO starts down the ramp.\n",
    "199 INT. CORRIDOR-SENATE ARENA-CHANCELLOR'S HOLDING OFFICE-NIGHT\n",
    "MAS AMEDDA leaves the room. PALPATINE approaches a stunned YODA.\n",
    "DARTH SlDIOUS: I have waited a long time for this moment, my little green friend. At last, the Jedi are no more.\n",
    "YODA: Not if anything I have to say about it, Lord Sidious.\n",
    "YODA uses the Force to throw DARTH SIDIOUS back, knocking him clear over his desk and onto the floor in a heap.\n",
    "YODA: (continuing) At an end your rule is and not short enough it was, I must say.\n",
    "DARTH SIDIOUS flies through the air, cape flapping, heading toward the exit. At the last second, YODA flies into the exit and stops the Dark Lord.\n",
    "YODA: (continuing) If so powerful you are, why leave??\n",
    "YODA ignites his lightsaber.\n",
    "DARTH SlDIOUS: You will not stop me. Darth Vader will become more powerful than either of us.\n",
    "DARTH SIDIOUS ignites his lightsaber.\n",
    "YODA: Faith in your new apprentice, misplaced may be, as is your faith in the dark side of the Force.\n",
    "Their swords CLASH. The battle is extremely fast and furious.\n",
    "200 INT. MUSTAFAR-MAIN CONTROL CENTER-DAY\n",
    "View screens EXPLODE around ANAKIN and OBI-WAN as they work their way into the Control Room. The fighting is intense. OBI-WAN is on the defensive as he jumps up on the table view screen in the center of the room.\n",
    "ANAKIN: Don't make me destroy you, Master. You're no match for the dark side.\n",
    "OBI-WAN: I've heard that before, Anakin . . . but I never thought I'd hear it from you.\n",
    "ANAKIN forces OBI-WAN back into the Conference Room where the quarters are much closer. Sparks fly everywhere. ANAKIN jumps onto the conference table. OBI-WAN slides across the table, knocking ANAKIN over. OBI-WAN grabs ANAKIN�s lightsaber as he falls. OBI-WAN uses the Force to summon his dropped lightsaber. ANAKIN does the same.\n",
    "201 INT. CORUSCANT-SENATE CHAMBER-MAIN ARENA-NIGHT\n",
    "PALPATINE seeks refuge in the vast Senate Chamber. He gets into the Chancellor's Podium and it starts to rise up into the Arena. YODA makes a giant leap into the control pod. The sword fighting is intense in the confined space.\n",
    "202 INT. MUSTAFAR-MAIN CONTROL CENTER-DAY\n",
    "The battle intensifies.\n",
    "OBI-WAN: (continuing) The flaw of power is arrogance.\n",
    "OBI-WAN stands looking at his former apprentice for a moment.\n",
    "ANAKIN: You hesitate . . . the flaw of compassion.\n",
    "OBI-WAN and ANAKIN lock sabers. OBI-WAN puts out his hand to use the Force to push ANAKIN away. ANAKIN puts out his hand to block OBI-WAN.\n",
    "Both combatants are blasted backwards onto the control panels.\n",
    "They regain their footing and the battle continues. ANAKIN kicks OBI-WAN away.\n",
    "They battle around the room, and eventually the door to the exterior is knocked open. They continue battling out onto the balcony.\n",
    "203 INT. CORUSCANT-SENATE CHAMRER-MAIN ARENA-NIGHT\n",
    "YODA unleashes a ferocious assault on PALPATINE, causing him to almost go over the edge. The Dark Lord drops his lightsaber but recovers with a BLAST OF ENERGY from his hands that surrounds YODA. YODA is deflecting the Sith Lord's lightning bolts.\n",
    "The energy bolts begin to arc back on the Emperor. It looks as if the Dark Lord is doomed.\n",
    "YODA: Destroy you I will, just as Master Kenobi, your apprentice will destroy.\n",
    "YODA jumps to a lower Senate Pod. PALPATINE reaches out with one hand, and a Senate pod is released from its mooring and heads toward the Podium. PALPATINE uses the Force to hurl pod after pod at YODA, who ducks and jumps from one flying pod to another.\n",
    "YODA leaps away from the pods. He uses the Force to hold one pod suspended in the air. The pod spins and YODA throws it back at PALPATINE, who leaps away at the last moment.\n",
    "YODA leaps after him, but PALPATINE quickly turns and aims the full force of his energy bolts at the tiny green Jedi, catching him in mid-air and throwing him back hard against the Podium. The force causes YODA to drop his lightsaber. YODA blocks the lightning and throws PALPATINE backwards off the podium. YODA is knocked off the Podium and falls several hundred feet to the base of the Podium. PALPATINE follows in his pod, searching for YODA.\n",
    "204 EXT. MUSTAFAR-MAIN CONTROL CENTER BALCONY-DAY\n",
    "ANAKIN forces OBI-WAN down a narrow balcony outside the Control Room. He rips objects off the wall and throws them at OBI-WAN as he pushes him further and further along the walkway.\n",
    "The balcony ends, and OBI-WAN is trapped. He looks over the balcony and into a river of lava.\n",
    "ANAKIN cuts apiece of the balcony railing off, along with a control panel.\n",
    "ALARMS SOUND, and a protective ray shield around the superstructure disappears. It tumbles into the molten abyss, disappearing in a puff of smoke. A small pipe connects the Control Center to the Main Collection Plant. OBI-WAN has no choice but to tightrope-walk out across the lava river while fighting ANAKIN.\n",
    "205 EXT. MUSTAFAR-MAIN CONTROL CENTER BALCONY, PIPE ACROSS LAVA RIVER, MAIN COLLECTION PLANT-DAY\n",
    "ANAKIN, following OBI-WAN, jumps down onto the flexing pipe, lands, and resumes fighting.\n",
    "206 INT. MUSTAFAR-PIPE ACROSS LAVA RIVER-DAY\n",
    "OBI-WAN and ANAKIN work their way across the small pipe, fighting ferociously as they go. OBI-WAN slips, throws his lightsaber up in the air, grabs on to the pipe, swings around, grabs on to an upper pipe, retrieves his lightsaber, and lands back on the original pipe. They continue to fight across the pipe until they reach the Main Collection Plant.\n",
    "207 INT. CORUSCANT-SENATE OFFICE BUILDING-WIRING CHUTE-NIGHT\n",
    "YODA squishes his way through a mass of wires in a small chute. He talks on his comlink.\n",
    "YODA: Hurry. Careful timing we will need.\n",
    "BAIL ORGANA: (in speeder) There aren't many troops on this side. Activate your homing beacon when you're ready.\n",
    "208 INT. CORUSCANT-SENATE CHAMBER-MAIN ARENA-NIGHT\n",
    "A Senate pod with COMMANDER THIRE (4477) and SEVERAL OTHER CLONE TROOPERS climb up to where MAS AMEDDA and PALPATINE are waiting. Beneath the Main Podium, TWENTY CLONE TROOPERS search for Yoda 's body.\n",
    "CLONE COMMANDER THIRE: There is no sign of his body, sir.\n",
    "MAS AMEDDA: Then he is not dead.\n",
    "PALPATINE: Double your search.\n",
    "CLONE COMMANDER THIRE: Yes sir. Right away, sir.\n",
    "PALPATINE: (to Mas Amedda) Tell Captain Kagi to prepare my shuttle for immediate takeoff.\n",
    "MAS AMEDDA: Yes, Master.\n",
    "PALPATINE: I sense Lord Vader is in danger.\n",
    "PALPATINE walks into the Arena hallway. COMMANDER THIRE descends down to the floor of the Arena, where an intense search is taking place. SEVERAL CURIOUS SENATORS rubberneck in scattered pods.\n",
    "209 EXT. MUSTAFAR-COLLECTION PANELS-DAY\n",
    "OBI-WAN and ANAKIN battle on the top of the multispired collection panels, jumping from one to the other. At the end of the collection cluster, a huge spray of lava covers the attachments that hold up the collectors. The frame begins to melt. It's raining lava. Both ANAKIN and OBI-WAN run for cover under the collection cluster. They continue to fight in the lava rain, darting from cover to attack, then quickly retreating to cover.\n",
    "Support for the entire structure begins to fall away, and the collection cluster falls into the lava river. The Jedi continue their fight, climbing to the highest point on the tower as the rest begins to melt away as it rides the swift current down the river.\n",
    "It bends toward the lava as they get out toward the end. The fighting gets fierce. OBI-WAN gets to the end and is trapped. The tower slowly starts to sink under the lava.\n",
    "210 EXT. CORUSCANT-SENATE OFFICE BUILDING-NIGHT\n",
    "BAIL ORGANA, in his open Cockpit Speeder, flies along next to the roof eave of the huge Senate Building. He slows and moves closer to a long row of recessed lights. Suddenly YODA falls out of one of the light recesses and lands in the Speeder. BAIL guns it and heads away from the Senate Building.\n",
    "211 INT. CORUSCANT-BAIL ORGANA'S SPEEDER-NIGHT\n",
    "YODA straightens himself out.\n",
    "YODA: Into exile I must go. Failed, I have.\n",
    "YODA and BAIL fly into the traffic of the city.\n",
    "212 EXT. MUSTAFAR-COLLECTION PANELS-DAY\n",
    "OBI-WAN realizes he is getting very close to the edge of the lava falls. He grabs a rope and leaps from the collection arm. ANAKIN follows.\n",
    "ANAKIN and OBI-WAN continue their sword fight hanging from cables as they swing past each other.\n",
    "213 EXT. MUSTAFAR-LANDING PLATFORM-NABOO SKIFF-DAY\n",
    "C-3PO carefully lifts PADME into his arms. R2-D2 nervously looks on. BEEPING.\n",
    "C-3PO: I am being careful. I've got a good hold on her, but . . . I'm worried about my back. I hope it's able to hold up under this weight.\n",
    "C-3PO carries PADME into the Naboo Skiff.\n",
    "214 EXT. MUSTAFAR-COLLECTION PANELS-DAY\n",
    "From their cables, ANAKIN and OBI-WAN both spot something that causes them to stop fighting. The lava river ahead drops off in a tremendous lava fall.\n",
    "SNAPPING AND METAL GROANS are heard as the main part of the collector starts to break away and move toward the lava fall. OBI-WAN looks around and sees a small floating platform making its way toward the tower.\n",
    "OBI-WAN does a double hack-flip and lands squarely on the floating platform. He immediately leans to one side and moves away from the tower.\n",
    "ANAKIN realizes he is doomed as the entire tower heads for the falls. In the distance he sees some CONSTRUCTION DROIDS. He swings back to the tower, climbs up and makes a running leap and miraculously lands on A WORKER DROID. The DROID is confused and chatters to his CO-WORKER. The giant collector goes over the lava flow and disappears in the mist of sparks below.\n",
    "OBI-WAN heads for the bank of the lava river, but Anakin's DROID is faster. He catches up with his old Master.\n",
    "OBI-WAN and ANAKIN continue the swordfight. They battle away, balancing on the tiny platform and puzzled DROID. ANAKIN, standing on the Droid, approaches OBI-WAN on the work platform.\n",
    "OBI-WAN: I have failed you, Anakin. I was never able to teach you to think.\n",
    "ANAKIN and OBI-WAN confront each other on the lava river.\n",
    "ANAKIN: I should have known the Jedi were plotting to take over . . .\n",
    "OBI-WAN: From the Sith!!! Anakin, Chancellor Palpatine is evil.\n",
    "ANAKIN: From the Jedi point of view! From my point of view, the Jedi are evil.\n",
    "OBI-WAN: Well, then you are lost!\n",
    "ANAKIN: This is the end for you, My Master. I wish it were otherwise.\n",
    "ANAKIN jumps and flips onto OBI- WAN's platform. The fighting continues again until OBI-WAN jumps toward the safety of the black sandy edge of the lava river. He yells at Anakin.\n",
    "OBI-WAN: It's over, Anakin. I have the high ground.\n",
    "ANAKIN: You underestimate my power!\n",
    "OBI-WAN: Don't try it.\n",
    "ANAKIN follows, and OBI-WAN cuts his young apprentice at the knees, then cuts off his left arm in the blink of an eye. ANAKIN tumbles down the embankment and rolls to a stop near the edge of the lava.\n",
    "ANAKIN struggles to pull himself up the embankment with his mechanical hand. His thin leather glove has been burned off. He keeps sliding down in the black sand.\n",
    "OBI-WAN: (continuing) . . . You were the Chosen One! It was said that you would, destroy the Sith, not join them. It was you who would bring balance to the Force, not leave it in Darkness.\n",
    "OBI-WAN picks up Anakin's light saber and begins to walk away. He stops and looks back.\n",
    "ANAKIN: I hate you!\n",
    "OBI-WAN: You were my brother, Anakin. I loved you.\n",
    "ANAKIN'S clothing blows into the lava river and ignites. Suddenly ANAKIN bursts into flames and starts SCREAMING.\n",
    "215 INT. MUSTAFAR-VOLCANO EDGE-DAY\n",
    "OBI-WAN looks in horror as ANAKIN becomes engulfed in flames. OBI-WAN can't watch him as he struggles to climb the embankment, covered in flames.\n",
    "He runs back to Padme's ship as ANAKIN drops, smoldering, near the top of the lava pit.\n",
    "216 EXT. MUSTAFAR-LANDING PLATFORM-NABOO SKIFF-DAY\n",
    "OBI-WAN makes his way to the SKIFF. He looks for Padme. THREEPIO sticks his head out the door of the SKIFF.\n",
    "C-3PO: Master Kenobi! We have Miss Padme on board. Please, please hurry. We should leave this dreadful place.\n",
    "OBI-WAN runs on board the Naboo Skiff.\n",
    "217 EXT. MUSTAFAR-LANDING PLATFORM-NABOO SKIFF-DAY\n",
    "PADME lies on a cot or bed inside the ship. OBI-WAN walks over and checks on her.\n",
    "PADME: Obi-Wan? Is Anakin all right?\n",
    "OBI-WAN looks at her sadly and does not answer. He brushes her hair back. Padme drops back into unconsciousness. ARTOO watches over her.\n",
    "OBI-WAN rides in the co-pilot's station. He sits looking pensive. THREEPIO drives.\n",
    "218 EXT. MUSTAFAR-VOLCANO EDGE-DAY\n",
    "ANAKIN crawls up the bank, his body smoking. A shuttle flies overhead and lands.\n",
    "219 EXT. MUSTAFAR-LANDING PLATFORM-IMPERIAL SHUTTLE-DAY\n",
    "An Imperial Shuttle closes its wings and settles on the highest of the Mustafar Landing Platforms. A PLATOON OF CLONE TROOPERS exits the craft, followed by DARTH SIDIOUS.\n",
    "220 INT. MUSTAFAR-VOLCANO PIT-DAY\n",
    "DARTH SIDIOUS walks in front of the CLONE TROOPERS on his way to get to Anakin at the edge of the lava pit.\n",
    "221 EXT. MUSTAFAR-VOLCANO PIT-DAY\n",
    "DARTH SIDIOUS discovers what remains of ANAKIN and checks him out. He turns to the CLONES.\n",
    "DARTH SIDIOUS: Anakin! Anakin! There he is. He's still alive. Get a medical capsule, immediately.\n",
    "CLONE CAPTAIN: Yes sir. Right away.\n",
    "Several of the CLONES rush off as DARTH SIDlOUS puts his hand on ANAKIN's forehead.\n",
    "222 INT. POLIS MASSA-OBSERVATION DOME-NIGHT\n",
    "On the isolated asteroid of Polis Massa, YODA meditates.\n",
    "YODA: Failed to stop the Sith Lord, I have. Still much to learn, there is ...\n",
    "QUI -GON: (V.O.) Patience. You will have time. I did not. When I became one with the Force I made a great discovery. With my training, you will be able to merge with the Force at will. Your physical self will fade away, but you will still retain your consciousness. You will become more powerful than any Sith.\n",
    "YODA: Eternal consciousness.\n",
    "QUI-GON: (V.O.) The ability to defy oblivion can be achieved, but only for oneself. It was accomplished by a Shaman of the Whills. It is a state acquired through compassion, not greed.\n",
    "YODA: . . . to become one with the Force, and influence still have . . . A power greater than all, it is.\n",
    "QUI-GON: (V.O.) You will learn to let go of everything. No attachment, no thought of self. No physical self.\n",
    "YODA: A great Jedi Master, you have become, Qui-Gon Jinn. Your apprentice I gratefully become.\n",
    "YODA thinks about this for a minute, then BAIL ORGANA enters the room and breaks his meditation.\n",
    "BAIL ORGANA: Excuse me, Master Yoda. Obi-Wan Kenobi has made contact.\n",
    "223 EXT. MUSTAFAR-LANDING PLATFORM-DAY\n",
    "The CLONES have placed ANAKIN in a medical capsule. They float the wounded Sith Lord into the belly of the IMPERIAL CRUISER. DARTH SIDIOUS follows the capsule into the ship. The ship takes off.\n",
    "224 EXT. POLIS MASSA-LANDING PLATFORM-NIGHT\n",
    "OBI-WAN lands the Naboo Cruiser on the landing platform of the isolated post of Polis Massa. YODA and BAIL ORGANA, along with a FEW GROUND CREW, are waiting as the ramp lowers and OBI-WAN emerges, carrying the unconscious PADME in his arms, followed by ARTOO and THREEPIO.\n",
    "BAIL ORGANA: We'll take her to the medical center, quickly.\"\"\"\n",
    "\n",
    "tokens = text.encode(\"utf-8\")\n",
    "tokens = list(map(int, tokens))"
   ]
  },
  {
   "cell_type": "code",
   "execution_count": 16,
   "id": "3b64d7cb",
   "metadata": {},
   "outputs": [
    {
     "name": "stdout",
     "output_type": "stream",
     "text": [
      "merging (101, 32) into a new token 256\n",
      "merging (115, 32) into a new token 257\n",
      "merging (116, 104) into a new token 258\n",
      "merging (105, 110) into a new token 259\n",
      "merging (32, 258) into a new token 260\n",
      "merging (46, 32) into a new token 261\n",
      "merging (32, 97) into a new token 262\n",
      "merging (260, 256) into a new token 263\n",
      "merging (101, 114) into a new token 264\n",
      "merging (65, 78) into a new token 265\n",
      "merging (100, 32) into a new token 266\n",
      "merging (46, 10) into a new token 267\n",
      "merging (116, 111) into a new token 268\n",
      "merging (111, 117) into a new token 269\n",
      "merging (116, 32) into a new token 270\n",
      "merging (73, 78) into a new token 271\n",
      "merging (111, 110) into a new token 272\n",
      "merging (44, 32) into a new token 273\n",
      "merging (111, 114) into a new token 274\n",
      "merging (101, 110) into a new token 275\n"
     ]
    }
   ],
   "source": [
    "vocab_size = 276 # desired final vocabulary size\n",
    "num_merges = vocab_size - 256\n",
    "ids = list(tokens) # copy so we don't destroy the original list\n",
    "\n",
    "merges = {}\n",
    "for i in range(num_merges):\n",
    "    pairs = get_pairs(ids)\n",
    "    pair = max(pairs, key=pairs.get)\n",
    "    idx = 256 + i\n",
    "    print(f\"merging {pair} into a new token {idx}\")\n",
    "    ids = merge(ids, pair, idx)\n",
    "    merges[pair] = idx"
   ]
  },
  {
   "cell_type": "code",
   "execution_count": 17,
   "id": "a01eeb5c",
   "metadata": {},
   "outputs": [
    {
     "name": "stdout",
     "output_type": "stream",
     "text": [
      "tokens length: 17891\n",
      "ids length: 14263\n",
      "compression ratio: 1.25X\n"
     ]
    }
   ],
   "source": [
    "print(\"tokens length:\", len(tokens))\n",
    "print(\"ids length:\", len(ids))\n",
    "print(f\"compression ratio: {len(tokens) / len(ids):.2f}X\")"
   ]
  },
  {
   "cell_type": "markdown",
   "id": "fa55fd63",
   "metadata": {},
   "source": [
    "### decoding"
   ]
  },
  {
   "cell_type": "code",
   "execution_count": 20,
   "id": "96afaba9",
   "metadata": {},
   "outputs": [
    {
     "name": "stdout",
     "output_type": "stream",
     "text": [
      "�\n"
     ]
    }
   ],
   "source": [
    "vocab = {idx: bytes([idx]) for idx in range(256)}\n",
    "for (p0, p1), idx in merges.items():\n",
    "    vocab[idx] = vocab[p0] + vocab[p1]\n",
    "\n",
    "def decode(ids):\n",
    "    # given ids (list of integers), return string\n",
    "    tokens = b\"\".join(vocab[idx] for idx in ids)\n",
    "    text = tokens.decode(\"utf-8\", errors='replace')\n",
    "    return text\n",
    "\n",
    "print(decode([128]))"
   ]
  },
  {
   "cell_type": "markdown",
   "id": "648ef57c",
   "metadata": {},
   "source": [
    "### encoding"
   ]
  },
  {
   "cell_type": "code",
   "execution_count": 21,
   "id": "d737c3a7",
   "metadata": {},
   "outputs": [
    {
     "name": "stdout",
     "output_type": "stream",
     "text": [
      "None\n"
     ]
    }
   ],
   "source": [
    "def encode(text):\n",
    "    # given a string, return list of integers (the tokens)\n",
    "    tokens = list(text.encode(\"utf-8\"))\n",
    "    while True:\n",
    "        pairs = get_pairs(tokens)\n",
    "        \n",
    "\n",
    "print(encode(\"hello world!\"))"
   ]
  },
  {
   "cell_type": "code",
   "execution_count": null,
   "id": "e1b3ac4a",
   "metadata": {},
   "outputs": [],
   "source": []
  }
 ],
 "metadata": {
  "kernelspec": {
   "display_name": "Python 3 (ipykernel)",
   "language": "python",
   "name": "python3"
  },
  "language_info": {
   "codemirror_mode": {
    "name": "ipython",
    "version": 3
   },
   "file_extension": ".py",
   "mimetype": "text/x-python",
   "name": "python",
   "nbconvert_exporter": "python",
   "pygments_lexer": "ipython3",
   "version": "3.9.8"
  }
 },
 "nbformat": 4,
 "nbformat_minor": 5
}
